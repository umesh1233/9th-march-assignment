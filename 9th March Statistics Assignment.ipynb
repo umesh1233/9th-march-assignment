{
 "cells": [
  {
   "cell_type": "code",
   "execution_count": null,
   "id": "d0053804-91e9-4704-89b8-bea21f3c800d",
   "metadata": {},
   "outputs": [],
   "source": [
    "#Q.1\n",
    "Probability mass functions (pmf) are used to describe discrete probability distributions. \n",
    "While probability density functions (pdf) are used to describe continuous probability distributions."
   ]
  },
  {
   "cell_type": "code",
   "execution_count": null,
   "id": "49401f77-366f-4f63-8e5c-fd908a900bea",
   "metadata": {},
   "outputs": [],
   "source": [
    "#Q.2\n",
    "The Cumulative Distribution Function (CDF), of a real-valued random variable X, evaluated at x, is the probability function that X will take a value less than or equal to x.\n",
    "It is used to describe the probability distribution of random variables in a table."
   ]
  },
  {
   "cell_type": "code",
   "execution_count": null,
   "id": "b02d0c6a-493f-40a2-a38b-86fd0836362f",
   "metadata": {},
   "outputs": [],
   "source": [
    "#Q.3\n",
    "The height of people is an example of normal distribution. Most of the people in a specific population are of average height. The number of people taller\n",
    "and shorter than the average height people is almost equal, and a very small number of people are either extremely tall or extremely short."
   ]
  },
  {
   "cell_type": "code",
   "execution_count": null,
   "id": "76d4032b-4fe9-46da-a889-2d54379b9bed",
   "metadata": {},
   "outputs": [],
   "source": [
    "#Q.4\n",
    "For example, “Height of people” is something that follows a normal distribution pattern perfectly: Most people are of average height, the numbers of people that are taller and shorter\n",
    "than average are fairly equal and a very small (and still roughly equivalent) number of people are either extremely tall or extremely ."
   ]
  },
  {
   "cell_type": "code",
   "execution_count": null,
   "id": "49b25c1a-e45a-4a0b-9ca0-d5f04c849b8b",
   "metadata": {},
   "outputs": [],
   "source": [
    "#Q.5\n",
    "Bernoulli distribution is a discrete probability distribution. It describes the probability of achieving a “success” or “failure” from a\n",
    "Bernoulli trial. A Bernoulli trial is an event that has only two possible outcomes (success or failure). For example, will a coin land on\n",
    "heads (success) or tails (failure)?\n",
    "\n",
    "difference between Bernoulli Distribution and Binomial Distribution?\n",
    "The Bernoulli distribution represents the success or failure of a single Bernoulli trial.\n",
    "The Binomial Distribution represents the number of successes and failures in n independent Bernoulli trials for some given value of n."
   ]
  },
  {
   "cell_type": "code",
   "execution_count": null,
   "id": "fed320be-d239-4e93-936e-87ea22cb7d6b",
   "metadata": {},
   "outputs": [],
   "source": [
    "#Q.7\n",
    "In statistics, uniform distribution refers to a type of probability distribution in which all outcomes are equally likely.\n",
    "A deck of cards has within it uniform distributions because the likelihood of drawing a heart, a club, a diamond, or a spade is equally likely."
   ]
  },
  {
   "cell_type": "code",
   "execution_count": null,
   "id": "2a6fa736-5bb1-4b2e-9d91-5c9ec2b42b32",
   "metadata": {},
   "outputs": [],
   "source": [
    "#Q.8\n",
    "A z-score is a statistical measurement that tells you how far away from the mean (or average) your datum lies in a normally distributed sample."
   ]
  },
  {
   "cell_type": "code",
   "execution_count": null,
   "id": "60c8445d-783f-4530-bc85-6d478091bb99",
   "metadata": {},
   "outputs": [],
   "source": [
    "#Q.9\n",
    "The central limit theorem says that the sampling distribution of the mean will always be normally distributed, as long as the sample size is large enough. Regardless\n",
    "of whether the population has a normal, Poisson, binomial, or any other distribution, the sampling distribution of the mean will be normal."
   ]
  },
  {
   "cell_type": "code",
   "execution_count": null,
   "id": "581f2580-8e1b-4430-9a7a-c86a02313ab0",
   "metadata": {},
   "outputs": [],
   "source": [
    "#Q.10\n",
    "Assumptions Behind the Central Limit Theorem\n",
    "The data must adhere to the randomization rule. It needs to be sampled at random. The samples should be unrelated to one another. \n",
    "One sample should not impact the others."
   ]
  }
 ],
 "metadata": {
  "kernelspec": {
   "display_name": "Python 3 (ipykernel)",
   "language": "python",
   "name": "python3"
  },
  "language_info": {
   "codemirror_mode": {
    "name": "ipython",
    "version": 3
   },
   "file_extension": ".py",
   "mimetype": "text/x-python",
   "name": "python",
   "nbconvert_exporter": "python",
   "pygments_lexer": "ipython3",
   "version": "3.10.8"
  }
 },
 "nbformat": 4,
 "nbformat_minor": 5
}
